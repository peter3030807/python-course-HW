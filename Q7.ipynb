{
 "cells": [
  {
   "cell_type": "code",
   "execution_count": 64,
   "metadata": {},
   "outputs": [],
   "source": [
    "%matplotlib inline\n",
    "\n",
    "import numpy as np\n",
    "import matplotlib.pyplot as plt"
   ]
  },
  {
   "cell_type": "code",
   "execution_count": 65,
   "metadata": {},
   "outputs": [],
   "source": [
    "from keras.datasets import mnist\n",
    "from keras.utils import np_utils"
   ]
  },
  {
   "cell_type": "code",
   "execution_count": 66,
   "metadata": {},
   "outputs": [],
   "source": [
    "(x_train, y_train), (x_test, y_test) = mnist.load_data()"
   ]
  },
  {
   "cell_type": "code",
   "execution_count": 67,
   "metadata": {},
   "outputs": [],
   "source": [
    "X = x_train[88]"
   ]
  },
  {
   "cell_type": "code",
   "execution_count": 68,
   "metadata": {},
   "outputs": [
    {
     "data": {
      "text/plain": [
       "<matplotlib.image.AxesImage at 0xa6c215c080>"
      ]
     },
     "execution_count": 68,
     "metadata": {},
     "output_type": "execute_result"
    },
    {
     "data": {
      "image/png": "[encoded data removed]",
      "text/plain": [
       "<Figure size 432x288 with 1 Axes>"
      ]
     },
     "metadata": {},
     "output_type": "display_data"
    }
   ],
   "source": [
    "plt.imshow(X, cmap = 'Greys')"
   ]
  },
  {
   "cell_type": "code",
   "execution_count": 69,
   "metadata": {},
   "outputs": [
    {
     "data": {
      "text/plain": [
       "0"
      ]
     },
     "execution_count": 69,
     "metadata": {},
     "output_type": "execute_result"
    }
   ],
   "source": [
    "y_train[88]"
   ]
  },
  {
   "cell_type": "code",
   "execution_count": 70,
   "metadata": {},
   "outputs": [],
   "source": [
    "x_train = x_train.reshape(60000, 784)\n",
    "x_test = x_test.reshape(10000, 784)"
   ]
  },
  {
   "cell_type": "code",
   "execution_count": 71,
   "metadata": {},
   "outputs": [],
   "source": [
    "y_train = np_utils.to_categorical(y_train, 10)\n",
    "y_test = np_utils.to_categorical(y_test, 10)"
   ]
  },
  {
   "cell_type": "code",
   "execution_count": 72,
   "metadata": {},
   "outputs": [
    {
     "data": {
      "text/plain": [
       "array([1., 0., 0., 0., 0., 0., 0., 0., 0., 0.], dtype=float32)"
      ]
     },
     "execution_count": 72,
     "metadata": {},
     "output_type": "execute_result"
    }
   ],
   "source": [
    "y_train[88]"
   ]
  },
  {
   "cell_type": "raw",
   "metadata": {},
   "source": [
    " * 激發函數用 \"relu\"\n",
    " * 使用 8 個隱藏層\n",
    " * 每個隱藏層各 16 個神經元"
   ]
  },
  {
   "cell_type": "code",
   "execution_count": 207,
   "metadata": {},
   "outputs": [],
   "source": [
    "from keras.models import Sequential\n",
    "from keras.layers import Dense, Activation\n",
    "from keras.optimizers import SGD"
   ]
  },
  {
   "cell_type": "code",
   "execution_count": 208,
   "metadata": {},
   "outputs": [],
   "source": [
    "model = Sequential()"
   ]
  },
  {
   "cell_type": "code",
   "execution_count": 209,
   "metadata": {},
   "outputs": [],
   "source": [
    "model.add(Dense(16, input_dim=784))\n",
    "model.add(Activation('relu'))"
   ]
  },
  {
   "cell_type": "code",
   "execution_count": 210,
   "metadata": {},
   "outputs": [],
   "source": [
    "model.add(Dense(16))\n",
    "model.add(Activation('relu'))"
   ]
  },
  {
   "cell_type": "code",
   "execution_count": 211,
   "metadata": {},
   "outputs": [],
   "source": [
    "model.add(Dense(16))\n",
    "model.add(Activation('relu'))"
   ]
  },
  {
   "cell_type": "code",
   "execution_count": 212,
   "metadata": {},
   "outputs": [],
   "source": [
    "model.add(Dense(16))\n",
    "model.add(Activation('relu'))"
   ]
  },
  {
   "cell_type": "code",
   "execution_count": 213,
   "metadata": {},
   "outputs": [],
   "source": [
    "model.add(Dense(16))\n",
    "model.add(Activation('relu'))"
   ]
  },
  {
   "cell_type": "code",
   "execution_count": 214,
   "metadata": {},
   "outputs": [],
   "source": [
    "model.add(Dense(16))\n",
    "model.add(Activation('relu'))"
   ]
  },
  {
   "cell_type": "code",
   "execution_count": 215,
   "metadata": {},
   "outputs": [],
   "source": [
    "model.add(Dense(16))\n",
    "model.add(Activation('relu'))"
   ]
  },
  {
   "cell_type": "code",
   "execution_count": 216,
   "metadata": {},
   "outputs": [],
   "source": [
    "model.add(Dense(16))\n",
    "model.add(Activation('relu'))"
   ]
  },
  {
   "cell_type": "code",
   "execution_count": 217,
   "metadata": {},
   "outputs": [],
   "source": [
    "model.add(Dense(10))\n",
    "model.add(Activation('softmax'))"
   ]
  },
  {
   "cell_type": "code",
   "execution_count": 218,
   "metadata": {},
   "outputs": [],
   "source": [
    "model.compile(loss='mse', optimizer=SGD(lr=0.087), metrics=['accuracy'])"
   ]
  },
  {
   "cell_type": "code",
   "execution_count": 219,
   "metadata": {},
   "outputs": [
    {
     "name": "stdout",
     "output_type": "stream",
     "text": [
      "_________________________________________________________________\n",
      "Layer (type)                 Output Shape              Param #   \n",
      "=================================================================\n",
      "dense_74 (Dense)             (None, 16)                12560     \n",
      "_________________________________________________________________\n",
      "activation_74 (Activation)   (None, 16)                0         \n",
      "_________________________________________________________________\n",
      "dense_75 (Dense)             (None, 16)                272       \n",
      "_________________________________________________________________\n",
      "activation_75 (Activation)   (None, 16)                0         \n",
      "_________________________________________________________________\n",
      "dense_76 (Dense)             (None, 16)                272       \n",
      "_________________________________________________________________\n",
      "activation_76 (Activation)   (None, 16)                0         \n",
      "_________________________________________________________________\n",
      "dense_77 (Dense)             (None, 16)                272       \n",
      "_________________________________________________________________\n",
      "activation_77 (Activation)   (None, 16)                0         \n",
      "_________________________________________________________________\n",
      "dense_78 (Dense)             (None, 16)                272       \n",
      "_________________________________________________________________\n",
      "activation_78 (Activation)   (None, 16)                0         \n",
      "_________________________________________________________________\n",
      "dense_79 (Dense)             (None, 16)                272       \n",
      "_________________________________________________________________\n",
      "activation_79 (Activation)   (None, 16)                0         \n",
      "_________________________________________________________________\n",
      "dense_80 (Dense)             (None, 16)                272       \n",
      "_________________________________________________________________\n",
      "activation_80 (Activation)   (None, 16)                0         \n",
      "_________________________________________________________________\n",
      "dense_81 (Dense)             (None, 16)                272       \n",
      "_________________________________________________________________\n",
      "activation_81 (Activation)   (None, 16)                0         \n",
      "_________________________________________________________________\n",
      "dense_82 (Dense)             (None, 10)                170       \n",
      "_________________________________________________________________\n",
      "activation_82 (Activation)   (None, 10)                0         \n",
      "=================================================================\n",
      "Total params: 14,634\n",
      "Trainable params: 14,634\n",
      "Non-trainable params: 0\n",
      "_________________________________________________________________\n"
     ]
    }
   ],
   "source": [
    "model.summary()"
   ]
  },
  {
   "cell_type": "markdown",
   "metadata": {},
   "source": [
    "**100 筆資料調一次參數，訓練 40 次**"
   ]
  },
  {
   "cell_type": "code",
   "execution_count": 220,
   "metadata": {},
   "outputs": [
    {
     "name": "stdout",
     "output_type": "stream",
     "text": [
      "Epoch 1/40\n",
      "60000/60000 [==============================] - 2s 39us/step - loss: 0.0811 - acc: 0.2444\n",
      "Epoch 2/40\n",
      "60000/60000 [==============================] - 2s 29us/step - loss: 0.0614 - acc: 0.4514\n",
      "Epoch 3/40\n",
      "60000/60000 [==============================] - 2s 29us/step - loss: 0.0495 - acc: 0.5847\n",
      "Epoch 4/40\n",
      "60000/60000 [==============================] - 2s 29us/step - loss: 0.0303 - acc: 0.7949\n",
      "Epoch 5/40\n",
      "60000/60000 [==============================] - 2s 29us/step - loss: 0.0216 - acc: 0.8590\n",
      "Epoch 6/40\n",
      "60000/60000 [==============================] - 2s 29us/step - loss: 0.0186 - acc: 0.8786\n",
      "Epoch 7/40\n",
      "60000/60000 [==============================] - 2s 29us/step - loss: 0.0170 - acc: 0.8893\n",
      "Epoch 8/40\n",
      "60000/60000 [==============================] - 2s 31us/step - loss: 0.0159 - acc: 0.8966\n",
      "Epoch 9/40\n",
      "60000/60000 [==============================] - 2s 30us/step - loss: 0.0151 - acc: 0.9017\n",
      "Epoch 10/40\n",
      "60000/60000 [==============================] - 2s 32us/step - loss: 0.0145 - acc: 0.9060\n",
      "Epoch 11/40\n",
      "60000/60000 [==============================] - 2s 31us/step - loss: 0.0140 - acc: 0.9087\n",
      "Epoch 12/40\n",
      "60000/60000 [==============================] - 2s 30us/step - loss: 0.0135 - acc: 0.9126\n",
      "Epoch 13/40\n",
      "60000/60000 [==============================] - 2s 30us/step - loss: 0.0131 - acc: 0.9153\n",
      "Epoch 14/40\n",
      "60000/60000 [==============================] - 2s 30us/step - loss: 0.0128 - acc: 0.9176\n",
      "Epoch 15/40\n",
      "60000/60000 [==============================] - 2s 31us/step - loss: 0.0124 - acc: 0.9204\n",
      "Epoch 16/40\n",
      "60000/60000 [==============================] - 2s 31us/step - loss: 0.0121 - acc: 0.9224\n",
      "Epoch 17/40\n",
      "60000/60000 [==============================] - 2s 32us/step - loss: 0.0116 - acc: 0.9260\n",
      "Epoch 18/40\n",
      "60000/60000 [==============================] - 2s 33us/step - loss: 0.0115 - acc: 0.9257\n",
      "Epoch 19/40\n",
      "60000/60000 [==============================] - 2s 31us/step - loss: 0.0112 - acc: 0.9281\n",
      "Epoch 20/40\n",
      "60000/60000 [==============================] - 2s 34us/step - loss: 0.0109 - acc: 0.9303\n",
      "Epoch 21/40\n",
      "60000/60000 [==============================] - 2s 31us/step - loss: 0.0106 - acc: 0.9318\n",
      "Epoch 22/40\n",
      "60000/60000 [==============================] - 2s 35us/step - loss: 0.0104 - acc: 0.9340\n",
      "Epoch 23/40\n",
      "60000/60000 [==============================] - 2s 32us/step - loss: 0.0101 - acc: 0.9359\n",
      "Epoch 24/40\n",
      "60000/60000 [==============================] - 2s 31us/step - loss: 0.0100 - acc: 0.9364\n",
      "Epoch 25/40\n",
      "60000/60000 [==============================] - 2s 29us/step - loss: 0.0098 - acc: 0.9379:\n",
      "Epoch 26/40\n",
      "60000/60000 [==============================] - 2s 33us/step - loss: 0.0096 - acc: 0.9393\n",
      "Epoch 27/40\n",
      "60000/60000 [==============================] - 2s 31us/step - loss: 0.0094 - acc: 0.9397\n",
      "Epoch 28/40\n",
      "60000/60000 [==============================] - 2s 32us/step - loss: 0.0093 - acc: 0.9406\n",
      "Epoch 29/40\n",
      "60000/60000 [==============================] - 2s 32us/step - loss: 0.0092 - acc: 0.9421\n",
      "Epoch 30/40\n",
      "60000/60000 [==============================] - 2s 32us/step - loss: 0.0091 - acc: 0.9420\n",
      "Epoch 31/40\n",
      "60000/60000 [==============================] - 2s 33us/step - loss: 0.0090 - acc: 0.9432\n",
      "Epoch 32/40\n",
      "60000/60000 [==============================] - 2s 34us/step - loss: 0.0088 - acc: 0.9442\n",
      "Epoch 33/40\n",
      "60000/60000 [==============================] - 2s 31us/step - loss: 0.0087 - acc: 0.9449\n",
      "Epoch 34/40\n",
      "60000/60000 [==============================] - 2s 29us/step - loss: 0.0086 - acc: 0.9458\n",
      "Epoch 35/40\n",
      "60000/60000 [==============================] - 2s 31us/step - loss: 0.0085 - acc: 0.9466\n",
      "Epoch 36/40\n",
      "60000/60000 [==============================] - 2s 30us/step - loss: 0.0084 - acc: 0.9472\n",
      "Epoch 37/40\n",
      "60000/60000 [==============================] - 2s 37us/step - loss: 0.0084 - acc: 0.9474\n",
      "Epoch 38/40\n",
      "60000/60000 [==============================] - 2s 34us/step - loss: 0.0083 - acc: 0.9480\n",
      "Epoch 39/40\n",
      "60000/60000 [==============================] - 2s 29us/step - loss: 0.0082 - acc: 0.9492\n",
      "Epoch 40/40\n",
      "60000/60000 [==============================] - 2s 29us/step - loss: 0.0082 - acc: 0.9490\n"
     ]
    },
    {
     "data": {
      "text/plain": [
       "<keras.callbacks.History at 0xa6c6d1b0b8>"
      ]
     },
     "execution_count": 220,
     "metadata": {},
     "output_type": "execute_result"
    }
   ],
   "source": [
    "model.fit(x_train, y_train, batch_size=100, epochs=40)"
   ]
  },
  {
   "cell_type": "code",
   "execution_count": 221,
   "metadata": {},
   "outputs": [
    {
     "name": "stdout",
     "output_type": "stream",
     "text": [
      "10000/10000 [==============================] - 0s 44us/step\n"
     ]
    }
   ],
   "source": [
    "score = model.evaluate(x_test, y_test)"
   ]
  },
  {
   "cell_type": "code",
   "execution_count": 222,
   "metadata": {},
   "outputs": [
    {
     "name": "stdout",
     "output_type": "stream",
     "text": [
      "loss: 0.00975947060883118\n",
      "正確率 0.9373\n"
     ]
    }
   ],
   "source": [
    "print('loss:', score[0])\n",
    "print('正確率', score[1])"
   ]
  },
  {
   "cell_type": "code",
   "execution_count": null,
   "metadata": {},
   "outputs": [],
   "source": []
  }
 ],
 "metadata": {
  "kernelspec": {
   "display_name": "Python 3",
   "language": "python",
   "name": "python3"
  },
  "language_info": {
   "codemirror_mode": {
    "name": "ipython",
    "version": 3
   },
   "file_extension": ".py",
   "mimetype": "text/x-python",
   "name": "python",
   "nbconvert_exporter": "python",
   "pygments_lexer": "ipython3",
   "version": "3.6.5"
  }
 },
 "nbformat": 4,
 "nbformat_minor": 2
}
