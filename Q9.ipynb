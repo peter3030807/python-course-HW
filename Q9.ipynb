{
  "nbformat": 4,
  "nbformat_minor": 0,
  "metadata": {
    "colab": {
      "name": "Q9.ipynb",
      "version": "0.3.2",
      "provenance": [],
      "collapsed_sections": []
    },
    "kernelspec": {
      "name": "python3",
      "display_name": "Python 3"
    }
  },
  "cells": [
    {
      "cell_type": "code",
      "metadata": {
        "id": "KRSUlQrP4WLZ",
        "colab_type": "code",
        "colab": {
          "base_uri": "https://localhost:8080/",
          "height": 34
        },
        "outputId": "d874d357-4360-4707-b225-c8902d3a5af6"
      },
      "source": [
        "%env KERAS_BACKEND=tensorflow"
      ],
      "execution_count": 29,
      "outputs": [
        {
          "output_type": "stream",
          "text": [
            "env: KERAS_BACKEND=tensorflow\n"
          ],
          "name": "stdout"
        }
      ]
    },
    {
      "cell_type": "code",
      "metadata": {
        "id": "C1rsqp1l4tZX",
        "colab_type": "code",
        "colab": {}
      },
      "source": [
        "%matplotlib inline\n",
        "\n",
        "import numpy as np\n",
        "import matplotlib.pyplot as plt"
      ],
      "execution_count": 0,
      "outputs": []
    },
    {
      "cell_type": "code",
      "metadata": {
        "id": "BDFJFll24vVc",
        "colab_type": "code",
        "colab": {}
      },
      "source": [
        "from keras.datasets import mnist"
      ],
      "execution_count": 0,
      "outputs": []
    },
    {
      "cell_type": "code",
      "metadata": {
        "id": "8j15XIOH4xus",
        "colab_type": "code",
        "colab": {}
      },
      "source": [
        "(x_train, y_train), (x_test, y_test) = mnist.load_data()"
      ],
      "execution_count": 0,
      "outputs": []
    },
    {
      "cell_type": "code",
      "metadata": {
        "id": "mSlgwVdD5AVb",
        "colab_type": "code",
        "colab": {}
      },
      "source": [
        "x_train = x_train.reshape(60000, 28, 28, 1)\n",
        "x_test = x_test.reshape(10000, 28, 28, 1)"
      ],
      "execution_count": 0,
      "outputs": []
    },
    {
      "cell_type": "code",
      "metadata": {
        "id": "rIYhLAod5Bn0",
        "colab_type": "code",
        "colab": {
          "base_uri": "https://localhost:8080/",
          "height": 34
        },
        "outputId": "67ff3101-9e5d-405a-e12a-448387467c2f"
      },
      "source": [
        "x_train[1234].shape"
      ],
      "execution_count": 34,
      "outputs": [
        {
          "output_type": "execute_result",
          "data": {
            "text/plain": [
              "(28, 28, 1)"
            ]
          },
          "metadata": {
            "tags": []
          },
          "execution_count": 34
        }
      ]
    },
    {
      "cell_type": "code",
      "metadata": {
        "id": "yKiqHXEY5Dh0",
        "colab_type": "code",
        "colab": {}
      },
      "source": [
        "from keras.utils import np_utils"
      ],
      "execution_count": 0,
      "outputs": []
    },
    {
      "cell_type": "code",
      "metadata": {
        "id": "3dO4Mj6Z5HyU",
        "colab_type": "code",
        "colab": {}
      },
      "source": [
        "y_train = np_utils.to_categorical(y_train, 10)\n",
        "y_test = np_utils.to_categorical(y_test, 10)\n",
        "x_train = x_train/255\n",
        "x_test = x_test/255"
      ],
      "execution_count": 0,
      "outputs": []
    },
    {
      "cell_type": "code",
      "metadata": {
        "id": "LyUH0VhW5UPO",
        "colab_type": "code",
        "colab": {}
      },
      "source": [
        ""
      ],
      "execution_count": 0,
      "outputs": []
    },
    {
      "cell_type": "code",
      "metadata": {
        "id": "aGWNXq_z5JNs",
        "colab_type": "code",
        "colab": {}
      },
      "source": [
        "from keras.models import Sequential\n",
        "from keras.layers import Dense, Activation, Flatten\n",
        "from keras.layers import Conv2D, MaxPool2D\n",
        "from keras.optimizers import SGD"
      ],
      "execution_count": 0,
      "outputs": []
    },
    {
      "cell_type": "code",
      "metadata": {
        "id": "-V5CqWsI5Kss",
        "colab_type": "code",
        "colab": {}
      },
      "source": [
        "model = Sequential()"
      ],
      "execution_count": 0,
      "outputs": []
    },
    {
      "cell_type": "code",
      "metadata": {
        "id": "0fFqJWV45MN8",
        "colab_type": "code",
        "colab": {}
      },
      "source": [
        "model.add(Conv2D(16, (5, 5), padding='same', input_shape=(28, 28, 1)))\n",
        "model.add(Activation('relu'))\n",
        "model.add(MaxPool2D(pool_size=(2,2)))"
      ],
      "execution_count": 0,
      "outputs": []
    },
    {
      "cell_type": "code",
      "metadata": {
        "id": "cdMD-xjw5NmE",
        "colab_type": "code",
        "colab": {}
      },
      "source": [
        "model.add(Conv2D(64, (5, 5), padding='same'))\n",
        "model.add(Activation('relu'))\n",
        "model.add(MaxPool2D(pool_size=(2,2)))"
      ],
      "execution_count": 0,
      "outputs": []
    },
    {
      "cell_type": "code",
      "metadata": {
        "id": "KAMZNf1n5QmM",
        "colab_type": "code",
        "colab": {}
      },
      "source": [
        "model.add(Flatten())\n",
        "model.add(Dense(128))\n",
        "model.add(Activation('relu'))\n",
        "model.add(Dense(32))\n",
        "model.add(Activation('relu'))"
      ],
      "execution_count": 0,
      "outputs": []
    },
    {
      "cell_type": "code",
      "metadata": {
        "id": "kcLeCAYo5d-k",
        "colab_type": "code",
        "colab": {}
      },
      "source": [
        "model.add(Dense(10))\n",
        "model.add(Activation('softmax'))"
      ],
      "execution_count": 0,
      "outputs": []
    },
    {
      "cell_type": "code",
      "metadata": {
        "id": "PjbdzoVT5fis",
        "colab_type": "code",
        "colab": {}
      },
      "source": [
        "model.compile(loss='categorical_crossentropy', optimizer='Adam', metrics=['accuracy'])"
      ],
      "execution_count": 0,
      "outputs": []
    },
    {
      "cell_type": "code",
      "metadata": {
        "id": "Y2XemeSg5hYL",
        "colab_type": "code",
        "colab": {
          "base_uri": "https://localhost:8080/",
          "height": 578
        },
        "outputId": "b30dfc32-1699-4313-a65a-4fe20c3d8f57"
      },
      "source": [
        "model.summary()"
      ],
      "execution_count": 51,
      "outputs": [
        {
          "output_type": "stream",
          "text": [
            "_________________________________________________________________\n",
            "Layer (type)                 Output Shape              Param #   \n",
            "=================================================================\n",
            "conv2d_3 (Conv2D)            (None, 28, 28, 16)        416       \n",
            "_________________________________________________________________\n",
            "activation_6 (Activation)    (None, 28, 28, 16)        0         \n",
            "_________________________________________________________________\n",
            "max_pooling2d_3 (MaxPooling2 (None, 14, 14, 16)        0         \n",
            "_________________________________________________________________\n",
            "conv2d_4 (Conv2D)            (None, 14, 14, 64)        25664     \n",
            "_________________________________________________________________\n",
            "activation_7 (Activation)    (None, 14, 14, 64)        0         \n",
            "_________________________________________________________________\n",
            "max_pooling2d_4 (MaxPooling2 (None, 7, 7, 64)          0         \n",
            "_________________________________________________________________\n",
            "flatten_2 (Flatten)          (None, 3136)              0         \n",
            "_________________________________________________________________\n",
            "dense_4 (Dense)              (None, 128)               401536    \n",
            "_________________________________________________________________\n",
            "activation_8 (Activation)    (None, 128)               0         \n",
            "_________________________________________________________________\n",
            "dense_5 (Dense)              (None, 32)                4128      \n",
            "_________________________________________________________________\n",
            "activation_9 (Activation)    (None, 32)                0         \n",
            "_________________________________________________________________\n",
            "dense_6 (Dense)              (None, 10)                330       \n",
            "_________________________________________________________________\n",
            "activation_10 (Activation)   (None, 10)                0         \n",
            "=================================================================\n",
            "Total params: 432,074\n",
            "Trainable params: 432,074\n",
            "Non-trainable params: 0\n",
            "_________________________________________________________________\n"
          ],
          "name": "stdout"
        }
      ]
    },
    {
      "cell_type": "code",
      "metadata": {
        "id": "ujvhBTj_5idj",
        "colab_type": "code",
        "colab": {
          "base_uri": "https://localhost:8080/",
          "height": 544
        },
        "outputId": "75437d8e-5f4b-482b-a213-1f3080f5ebf4"
      },
      "source": [
        "model.fit(x_train, y_train, batch_size=100, epochs=15)"
      ],
      "execution_count": 52,
      "outputs": [
        {
          "output_type": "stream",
          "text": [
            "Epoch 1/15\n",
            "60000/60000 [==============================] - 95s 2ms/step - loss: 0.1881 - acc: 0.9418\n",
            "Epoch 2/15\n",
            "60000/60000 [==============================] - 95s 2ms/step - loss: 0.0513 - acc: 0.9844\n",
            "Epoch 3/15\n",
            "60000/60000 [==============================] - 94s 2ms/step - loss: 0.0366 - acc: 0.9883\n",
            "Epoch 4/15\n",
            "60000/60000 [==============================] - 94s 2ms/step - loss: 0.0261 - acc: 0.9921\n",
            "Epoch 5/15\n",
            "60000/60000 [==============================] - 94s 2ms/step - loss: 0.0204 - acc: 0.9933\n",
            "Epoch 6/15\n",
            "60000/60000 [==============================] - 94s 2ms/step - loss: 0.0168 - acc: 0.9948\n",
            "Epoch 7/15\n",
            "60000/60000 [==============================] - 94s 2ms/step - loss: 0.0126 - acc: 0.9959\n",
            "Epoch 8/15\n",
            "60000/60000 [==============================] - 94s 2ms/step - loss: 0.0118 - acc: 0.9961\n",
            "Epoch 9/15\n",
            "60000/60000 [==============================] - 94s 2ms/step - loss: 0.0115 - acc: 0.9966\n",
            "Epoch 10/15\n",
            "60000/60000 [==============================] - 94s 2ms/step - loss: 0.0078 - acc: 0.9974\n",
            "Epoch 11/15\n",
            "60000/60000 [==============================] - 94s 2ms/step - loss: 0.0080 - acc: 0.9973\n",
            "Epoch 12/15\n",
            "60000/60000 [==============================] - 94s 2ms/step - loss: 0.0082 - acc: 0.9972\n",
            "Epoch 13/15\n",
            "60000/60000 [==============================] - 93s 2ms/step - loss: 0.0064 - acc: 0.9978\n",
            "Epoch 14/15\n",
            "60000/60000 [==============================] - 94s 2ms/step - loss: 0.0054 - acc: 0.9985\n",
            "Epoch 15/15\n",
            "60000/60000 [==============================] - 94s 2ms/step - loss: 0.0065 - acc: 0.9978\n"
          ],
          "name": "stdout"
        },
        {
          "output_type": "execute_result",
          "data": {
            "text/plain": [
              "<keras.callbacks.History at 0x7fc7b4e25400>"
            ]
          },
          "metadata": {
            "tags": []
          },
          "execution_count": 52
        }
      ]
    },
    {
      "cell_type": "code",
      "metadata": {
        "id": "KAmtNwit5uMD",
        "colab_type": "code",
        "colab": {
          "base_uri": "https://localhost:8080/",
          "height": 34
        },
        "outputId": "7c89f4a6-084f-47e2-d3ff-6743a3dfcd25"
      },
      "source": [
        "score = model.evaluate(x_test, y_test)"
      ],
      "execution_count": 53,
      "outputs": [
        {
          "output_type": "stream",
          "text": [
            "10000/10000 [==============================] - 7s 658us/step\n"
          ],
          "name": "stdout"
        }
      ]
    },
    {
      "cell_type": "code",
      "metadata": {
        "id": "nb_5_KTd8KVm",
        "colab_type": "code",
        "colab": {
          "base_uri": "https://localhost:8080/",
          "height": 51
        },
        "outputId": "5eb850df-4bb7-4b41-f5e9-c38a648e3d7c"
      },
      "source": [
        "print(f'測試資料的 loss: {score[0]:.5f}')\n",
        "print(f'測試資料的正確率: {score[1]*100}%')"
      ],
      "execution_count": 54,
      "outputs": [
        {
          "output_type": "stream",
          "text": [
            "測試資料的 loss: 0.02908\n",
            "測試資料的正確率: 99.24%\n"
          ],
          "name": "stdout"
        }
      ]
    },
    {
      "cell_type": "code",
      "metadata": {
        "id": "bWEAcwOq8VXL",
        "colab_type": "code",
        "colab": {}
      },
      "source": [
        "model.save('myCNNmodel.h5')"
      ],
      "execution_count": 0,
      "outputs": []
    },
    {
      "cell_type": "code",
      "metadata": {
        "id": "ii1gLCpo8lGr",
        "colab_type": "code",
        "colab": {}
      },
      "source": [
        "del model"
      ],
      "execution_count": 0,
      "outputs": []
    },
    {
      "cell_type": "code",
      "metadata": {
        "id": "bVUIVJ8d8mrb",
        "colab_type": "code",
        "colab": {}
      },
      "source": [
        "from keras.models import load_model\n",
        "model = load_model('myCNNmodel.h5')"
      ],
      "execution_count": 0,
      "outputs": []
    },
    {
      "cell_type": "code",
      "metadata": {
        "id": "4Spb0-4O8pPb",
        "colab_type": "code",
        "colab": {
          "base_uri": "https://localhost:8080/",
          "height": 122
        },
        "outputId": "42fb307f-be2e-48eb-f243-0f25f12b477b"
      },
      "source": [
        "predict = model.predict_classes(x_test)\n",
        "pick = np.random.randint(1,9999, 5)\n",
        "\n",
        "for i in range(5):\n",
        "    plt.subplot(1,5,i+1)\n",
        "    plt.imshow(x_test[pick[i]].reshape(28,28), cmap='Greys')\n",
        "    plt.title(predict[pick[i]])\n",
        "    plt.axis(\"off\")"
      ],
      "execution_count": 58,
      "outputs": [
        {
          "output_type": "display_data",
          "data": {
            "image/png": "[encoded data removed]",
            "text/plain": [
              "<Figure size 432x288 with 5 Axes>"
            ]
          },
          "metadata": {
            "tags": []
          }
        }
      ]
    },
    {
      "cell_type": "code",
      "metadata": {
        "id": "ogrxU3Sy8w3M",
        "colab_type": "code",
        "colab": {}
      },
      "source": [
        ""
      ],
      "execution_count": 0,
      "outputs": []
    }
  ]
}